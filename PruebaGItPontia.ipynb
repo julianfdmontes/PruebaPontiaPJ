{
  "cells": [
    {
      "cell_type": "markdown",
      "id": "f3b1d4f3",
      "metadata": {
        "id": "f3b1d4f3"
      },
      "source": [
        "# Prueba GitPontia"
      ]
    },
    {
      "cell_type": "code",
      "execution_count": null,
      "id": "5050be1e",
      "metadata": {
        "id": "5050be1e"
      },
      "outputs": [],
      "source": [
        "import pandas as pd\n",
        "import numpy as np"
      ]
    },
    {
      "cell_type": "code",
      "execution_count": null,
      "id": "0e837316",
      "metadata": {
        "id": "0e837316"
      },
      "outputs": [],
      "source": [
        "# Esto es una prueba"
      ]
    },
    {
      "cell_type": "code",
      "source": [
        "# Este cambio desde google colab"
      ],
      "metadata": {
        "id": "__cFMwjYNdbT"
      },
      "id": "__cFMwjYNdbT",
      "execution_count": null,
      "outputs": []
    }
  ],
  "metadata": {
    "colab": {
      "provenance": []
    },
    "kernelspec": {
      "display_name": "Python 3 (ipykernel)",
      "language": "python",
      "name": "python3"
    },
    "language_info": {
      "codemirror_mode": {
        "name": "ipython",
        "version": 3
      },
      "file_extension": ".py",
      "mimetype": "text/x-python",
      "name": "python",
      "nbconvert_exporter": "python",
      "pygments_lexer": "ipython3",
      "version": "3.12.0"
    },
    "toc": {
      "base_numbering": 1,
      "nav_menu": {},
      "number_sections": true,
      "sideBar": true,
      "skip_h1_title": false,
      "title_cell": "Table of Contents",
      "title_sidebar": "Contents",
      "toc_cell": true,
      "toc_position": {},
      "toc_section_display": true,
      "toc_window_display": false
    }
  },
  "nbformat": 4,
  "nbformat_minor": 5
}